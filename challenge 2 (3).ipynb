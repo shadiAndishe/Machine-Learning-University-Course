{
 "cells": [
  {
   "cell_type": "markdown",
   "metadata": {},
   "source": [
    "\n",
    "# Machine Learning 2019/2020 - Challenge 2 - 16 December 2019\n",
    "\n",
    "## Rules (read carefully):\n",
    "- This year the results of the two challenges will count 10% and 15% respectively of your final score.\n",
    "- If you work with a group of colleges (max 3 students), please remember your solution must be <b>\"your solution\"</b>, hence provide your individual answers/arguments/opinions/critics;\n",
    "- Students of the same group can share <b>ONLY</b> the code.\n",
    "- Mail your solution (a <b>jupyter notebook</b>) only to stefano.faralli@unitelmasapienza.it before the 1:59 PM of the 19 December 2019 (Rome Berlin time);\n",
    "- The subject of your email must be: \"[Challenge_2_solution] NAME - SURNAME - MATRICOLA.\"\n",
    "- Double check the subject of your email and the attachments;\n",
    "- In case you want to compress the attachment, <b>USE ONLY STANDARD ZIP compression</b>;\n",
    "- <b>Please sumbit ONLY the notebook with SAVED OUTPUTS!</b>\n",
    "- The physical attendance to the lab is not mandatory, you can work from a remote place by following the identical rules.\n",
    "- Your solution might be considered as the \"copy\" of others solutions, in that specific case the assigned score will be the result of the proposed solution divided by the number of \"too much similar\" solutions. If you share the code with the components of your \"group\" please comment the code and answer the questions by yourself.\n",
    "\n",
    "- Monday 16 December, I will share the necessary key to unzip the content of the provided challenge material (I will also send a message on the Google group).\n",
    "- To unzip the content of the zip you will use the above key\n",
    "- Then read carefully all the part of the jupyter notebook and fill all mandatory fields.\n",
    "- <b>Don't write \"personal\" emails</b> to Stefano Faralli, but please <b>use the google group</b> I will reply until 12 AM of 17 December 2019 <b>(strict deadline)</b>. \n",
    "- <b>solutions (and correspondig points) are evaluated mainly on your thoughts/comments/opinions</b> hence, please use the provided corresponding \"YOUR COMMENTS\" cell</b> \n",
    "\n"
   ]
  },
  {
   "cell_type": "markdown",
   "metadata": {},
   "source": [
    "## Identification (Mandatory)"
   ]
  },
  {
   "cell_type": "code",
   "execution_count": 1,
   "metadata": {},
   "outputs": [],
   "source": [
    "yourNameSurname = 'shadi andishmand'\n",
    "yourMatricolaNumber = '1919010'\n",
    "yourStudentEMAIL = 'andishmand.1919010@studenti.uniroma1.it'\n",
    "yourColleguesNameSurnames=['paolo mazza']"
   ]
  },
  {
   "cell_type": "markdown",
   "metadata": {},
   "source": [
    "# Lego Bricks Visual Classification\n",
    "<img src=\"45020_Prod_03.jpg\"/>\n",
    "\n",
    "## Description of the task:\n",
    "<br>\n",
    "devolop a classifier able to classify with a <b>weighted avg F1 score greater than 0.60</b> pictures of Lego bricks taken at different angles.\n",
    "Use Keras and scikit-learn to develop, train and evaluate a CNN with:<br>\n",
    "- Convolutional and Pooling operations<br>  \n",
    "- a dense sub network at the end <br>\n"
   ]
  },
  {
   "cell_type": "markdown",
   "metadata": {},
   "source": [
    "## Part 1 -  Dataset (max 6/30)"
   ]
  },
  {
   "cell_type": "markdown",
   "metadata": {},
   "source": [
    "### Part 1-a  - Load the dataset (3/6 pts)\n",
    "The provided dataset is composed by pictures of Lego bricks, taken at different angles:<br>\n",
    "As an example the following picture:<br>\n",
    "<img src=\"dataset/train/2357 Brick corner 1x2x2/201706171206-0001.png\"/> \n",
    "corresponds to the png file in \"dataset/train/2357 Brick corner 1x2x2/201706171206-0001.png\"\n",
    "- \"201706171206-0001.png\" is the name of the file;\n",
    "- \"2357 Brick corner 1x2x2\" is the label of the Lego brick type;\n",
    "- \"train\" means that this is the portion of the dataset you must use for the training\n",
    "Inside the folder <b>dataset</b> you can find another subfolder <b>validatetest</b>.\n",
    "The content inside of <b>validatetest</b> must be used (after a proper split) for validation during training and for testing during the evaluation.\n",
    "\n",
    "\n",
    "Load the dataset and create: \n",
    "- X_train, y_train from the content in \"dataset/train/\"\n",
    "- X_validate,y_validate,X_test,y_test as a split (20% for validation and 80% for test) of the content in \"dataset/validatetest/\"\n",
    "\n",
    "<b>Tips:</b>\n",
    "- you can use CV2 or matplotlib to load pictures\n",
    "- check the file you are loading is ending with \".png\"\n"
   ]
  },
  {
   "cell_type": "markdown",
   "metadata": {},
   "source": []
  },
  {
   "cell_type": "code",
   "execution_count": 36,
   "metadata": {},
   "outputs": [],
   "source": [
    "\n",
    "import matplotlib.pyplot as plt\n",
    "import os\n",
    "import cv2\n",
    "from sklearn.model_selection import train_test_split\n"
   ]
  },
  {
   "cell_type": "code",
   "execution_count": 37,
   "metadata": {},
   "outputs": [],
   "source": [
    "def loadPictures(path):\n",
    "  for _,dirs,_ in os.walk(path):\n",
    "    X = []\n",
    "    y = []\n",
    "    for dir in dirs:\n",
    "        for _,_,files in os.walk(path+dir+\"/\"):\n",
    "            for file in files:\n",
    "                if file.find('.png')<0:\n",
    "                       continue     \n",
    "                img = cv2.imread(path+dir+\"/\"+file)\n",
    "                X.append(img)\n",
    "                y.append(dir)\n",
    "    return X, y"
   ]
  },
  {
   "cell_type": "code",
   "execution_count": 38,
   "metadata": {},
   "outputs": [],
   "source": [
    "X_train, y_train = loadPictures('dataset/train/')"
   ]
  },
  {
   "cell_type": "code",
   "execution_count": 39,
   "metadata": {},
   "outputs": [],
   "source": [
    "X, y = loadPictures('dataset/validationandtest/')"
   ]
  },
  {
   "cell_type": "markdown",
   "metadata": {},
   "source": [
    "# your comments: "
   ]
  },
  {
   "cell_type": "markdown",
   "metadata": {},
   "source": [
    "\n",
    "# part 1-a - load data set\n",
    "in this part there is 4 blocks of code.\n",
    "in the first part the useful libraries is imporetd:\n",
    "first library is matplotlib which is used for heatmap plot in the 4th part.this library is useful for plotting 2D , os for directory cv2 for image reading and sklearn.model_selection for spliting dataset into two part.\n",
    "\n",
    "in the second block LOADPICTURE function is defined to give hte images directory.in that os which is used for walk function which is a function that creates a tuple of values (current_path, directories in current_path, files in current_path) which here we just need dirs in first for then in second for we go into files and try to find all imges with png extension.\n",
    "then we use imread from opencv library which load image from a specific file.in this function we pass the (path) to it and then we use this to load our data set.\n",
    "then we call this function to load images into RAM and use them for training and evaluating.the final folder contain labeles and pictures \n"
   ]
  },
  {
   "cell_type": "markdown",
   "metadata": {},
   "source": [
    "### Part 1-b Dataset  preprocessing (3/6 pts max)\n",
    "Since you are using the dataset for a classification task using Keras API you will need to perform some dataset tranformations:<br>\n",
    "1) tranform all the images into grayscale having a final shape of (dim,dim,1)  dim<200;<br>\n",
    "<img src=\"info.png\">\n",
    "2) encode properly the target features for train, test and validation<br>\n",
    "\n",
    "<b>Tips:</b>\n",
    "- you can use CV2 and numpy to tranform and reshape the pictures\n"
   ]
  },
  {
   "cell_type": "markdown",
   "metadata": {},
   "source": [
    "# part1-b data preprocessing\n",
    "in this part we did preprocessing the data which is really important before feeding it into our model.i did preprocessing before spliting my dataset to train and test to avoid doing a similiar work again. \n",
    "\n",
    "first block import pandas library for using get dummies and then numpy for some functions like reshape in first block.we load train and test dataset in 3 dimensions.if we had really big data set we should try another ways to load data set and i tried first another way to load data step by step in memory by generator but it was slow in my pc so i changed it to this way since the data set was small.\n",
    "\n",
    "second and third block do similar things for train dataset and test dataset: \n",
    "we do resizing with a specific scale ( i use this scale since with smaller sacle the picture is getting fade and resouloution and edges of images decrease and it get worse for CNN to classify legoes corectly) and making small each image and then we change the image to gray by using \"resize and cvtcolor\" from opencv .as you know colorful images have 3 channel RGB which with converting them to gray we reduced it to 1 channel.After convert to gray we use the minmax scaling to have pixel values in range [0,1].\n",
    "\n",
    "in 4th block i reshaped the dataset and add 1dimension to it since we need 4 dimension for CNN.\n",
    "in 5th block i used get_dummies function which help me to make one feature for each different values that i have in target function and we need it since we wanted to use softmax in the output layer and output is 16 values array and in this way we have a 16 values array that one of them is 1 that it is the predicted class so with get dummies i transformed it to modify my categories as i want.\n",
    "\n",
    "in last part i splited data to test and train which i specified 80% is for test and train 20% is automatcally chose by python. since the train and test set have overlap its ok to do this."
   ]
  },
  {
   "cell_type": "code",
   "execution_count": 40,
   "metadata": {},
   "outputs": [],
   "source": [
    "import pandas as pd\n",
    "import numpy as np\n",
    "\n",
    "from sklearn.model_selection import train_test_split"
   ]
  },
  {
   "cell_type": "code",
   "execution_count": 41,
   "metadata": {},
   "outputs": [],
   "source": [
    "X_train_t = []\n",
    "scale=0.6\n",
    "for img in X_train:\n",
    "    img_resize = cv2.resize(img, (0, 0), fx=scale, fy=scale)\n",
    "    gray = cv2.cvtColor(img_resize, cv2.COLOR_BGR2GRAY)\n",
    "    X_train_t.append(gray)\n",
    "X_train = X_train_t"
   ]
  },
  {
   "cell_type": "code",
   "execution_count": 42,
   "metadata": {},
   "outputs": [],
   "source": [
    "X_t = []\n",
    "for img in X:\n",
    "    img_resize = cv2.resize(img, (0, 0), fx=scale, fy=scale)    \n",
    "    gray = cv2.cvtColor(img_resize, cv2.COLOR_BGR2GRAY)\n",
    "    X_t.append(gray)\n",
    "X = X_t"
   ]
  },
  {
   "cell_type": "code",
   "execution_count": 43,
   "metadata": {},
   "outputs": [],
   "source": [
    "#4-block\n",
    "width = X_train[0].shape[0]\n",
    "height = X_train[0].shape[1]\n",
    "X_train = np.asarray(X_train).astype('float32') / 255.\n",
    "X = np.asarray(X).astype('float32') / 255.\n",
    "X_train = np.reshape(X_train, (len(X_train), width, height, 1))  \n",
    "X = np.reshape(X, (len(X), width, height, 1))  "
   ]
  },
  {
   "cell_type": "code",
   "execution_count": 44,
   "metadata": {},
   "outputs": [],
   "source": [
    "#5th block\n",
    "y_train = pd.get_dummies(y_train)"
   ]
  },
  {
   "cell_type": "code",
   "execution_count": 45,
   "metadata": {},
   "outputs": [],
   "source": [
    "y = pd.get_dummies(y)"
   ]
  },
  {
   "cell_type": "code",
   "execution_count": 46,
   "metadata": {},
   "outputs": [],
   "source": [
    "X_validate, X_test, y_validate, y_test = train_test_split(X, y, test_size=0.8)"
   ]
  },
  {
   "cell_type": "markdown",
   "metadata": {},
   "source": [
    "# your comments:"
   ]
  },
  {
   "cell_type": "markdown",
   "metadata": {},
   "source": [
    "## Part 2 - Training (max 12 pts)\n",
    "## Part 2.a - create and train a  working CNN (10/10 pts)\n",
    "use Keras: with Convolutional and Pooling operations and a dense sub network at the end, use properly the preprocessed portions of the dataset (train and validation) and apply scaling.\n",
    "\n",
    "## Part 2.b -  save the learned model (2/10 pts)\n",
    "save the model to a file"
   ]
  },
  {
   "cell_type": "code",
   "execution_count": 48,
   "metadata": {},
   "outputs": [],
   "source": [
    "#code for Part 2 - Training\n",
    "from keras.layers import Input, Conv2D, MaxPooling2D, UpSampling2D, ZeroPadding2D, Dense, Flatten\n",
    "from keras.models import Model\n",
    "from keras.callbacks import TensorBoard"
   ]
  },
  {
   "cell_type": "code",
   "execution_count": 49,
   "metadata": {},
   "outputs": [],
   "source": [
    "input_img = Input(shape=(width, height, 1)) \n",
    "x = Conv2D(16, (3, 3), activation='relu', padding='same')(input_img)\n",
    "x = MaxPooling2D((2, 2), padding='same')(x)\n",
    "x = Conv2D(8, (3, 3), activation='relu', padding='same')(x)\n",
    "x = MaxPooling2D((2, 2), padding='same')(x)\n",
    "x = Flatten()(x)\n",
    "x = Dense(16, activation='softmax')(x)\n",
    "model = Model(input_img, x)\n",
    "\n",
    "model.compile(optimizer='adam',\n",
    "              loss='categorical_crossentropy',\n",
    "              metrics=['accuracy']\n",
    "              )"
   ]
  },
  {
   "cell_type": "code",
   "execution_count": 50,
   "metadata": {},
   "outputs": [
    {
     "name": "stdout",
     "output_type": "stream",
     "text": [
      "_________________________________________________________________\n",
      "Layer (type)                 Output Shape              Param #   \n",
      "=================================================================\n",
      "input_2 (InputLayer)         (None, 120, 120, 1)       0         \n",
      "_________________________________________________________________\n",
      "conv2d_3 (Conv2D)            (None, 120, 120, 16)      160       \n",
      "_________________________________________________________________\n",
      "max_pooling2d_3 (MaxPooling2 (None, 60, 60, 16)        0         \n",
      "_________________________________________________________________\n",
      "conv2d_4 (Conv2D)            (None, 60, 60, 8)         1160      \n",
      "_________________________________________________________________\n",
      "max_pooling2d_4 (MaxPooling2 (None, 30, 30, 8)         0         \n",
      "_________________________________________________________________\n",
      "flatten_2 (Flatten)          (None, 7200)              0         \n",
      "_________________________________________________________________\n",
      "dense_2 (Dense)              (None, 16)                115216    \n",
      "=================================================================\n",
      "Total params: 116,536\n",
      "Trainable params: 116,536\n",
      "Non-trainable params: 0\n",
      "_________________________________________________________________\n"
     ]
    }
   ],
   "source": [
    "model.summary()"
   ]
  },
  {
   "cell_type": "code",
   "execution_count": 51,
   "metadata": {
    "scrolled": true
   },
   "outputs": [
    {
     "name": "stdout",
     "output_type": "stream",
     "text": [
      "Train on 6379 samples, validate on 1275 samples\n",
      "Epoch 1/20\n",
      "6379/6379 [==============================] - 89s 14ms/step - loss: 1.7066 - acc: 0.4676 - val_loss: 0.8399 - val_acc: 0.6549\n",
      "Epoch 2/20\n",
      "6379/6379 [==============================] - 89s 14ms/step - loss: 0.6824 - acc: 0.7413 - val_loss: 0.6471 - val_acc: 0.7490\n",
      "Epoch 3/20\n",
      "6379/6379 [==============================] - 79s 12ms/step - loss: 0.5353 - acc: 0.8066 - val_loss: 0.4914 - val_acc: 0.8196\n",
      "Epoch 4/20\n",
      "6379/6379 [==============================] - 88s 14ms/step - loss: 0.4525 - acc: 0.8298 - val_loss: 0.4479 - val_acc: 0.8267\n",
      "Epoch 5/20\n",
      "6379/6379 [==============================] - 89s 14ms/step - loss: 0.3951 - acc: 0.8519 - val_loss: 0.3565 - val_acc: 0.8675\n",
      "Epoch 6/20\n",
      "6379/6379 [==============================] - 87s 14ms/step - loss: 0.3605 - acc: 0.8628 - val_loss: 0.3404 - val_acc: 0.8761\n",
      "Epoch 7/20\n",
      "6379/6379 [==============================] - 93s 15ms/step - loss: 0.3352 - acc: 0.8726 - val_loss: 0.3259 - val_acc: 0.8761\n",
      "Epoch 8/20\n",
      "6379/6379 [==============================] - 90s 14ms/step - loss: 0.3034 - acc: 0.8874 - val_loss: 0.2705 - val_acc: 0.9145\n",
      "Epoch 9/20\n",
      "6379/6379 [==============================] - 90s 14ms/step - loss: 0.2618 - acc: 0.9017 - val_loss: 0.3056 - val_acc: 0.8808\n",
      "Epoch 10/20\n",
      "6379/6379 [==============================] - 93s 15ms/step - loss: 0.2585 - acc: 0.9016 - val_loss: 0.2865 - val_acc: 0.8965\n",
      "Epoch 11/20\n",
      "6379/6379 [==============================] - 94s 15ms/step - loss: 0.2441 - acc: 0.9053 - val_loss: 0.2500 - val_acc: 0.8973\n",
      "Epoch 12/20\n",
      "6379/6379 [==============================] - 89s 14ms/step - loss: 0.2302 - acc: 0.9122 - val_loss: 0.2147 - val_acc: 0.9216\n",
      "Epoch 13/20\n",
      "6379/6379 [==============================] - 89s 14ms/step - loss: 0.2025 - acc: 0.9248 - val_loss: 0.1981 - val_acc: 0.9302\n",
      "Epoch 14/20\n",
      "6379/6379 [==============================] - 94s 15ms/step - loss: 0.1841 - acc: 0.9298 - val_loss: 0.1761 - val_acc: 0.9404\n",
      "Epoch 15/20\n",
      "6379/6379 [==============================] - 84s 13ms/step - loss: 0.1740 - acc: 0.9317 - val_loss: 0.2189 - val_acc: 0.9145\n",
      "Epoch 16/20\n",
      "6379/6379 [==============================] - 88s 14ms/step - loss: 0.1697 - acc: 0.9373 - val_loss: 0.1538 - val_acc: 0.9475\n",
      "Epoch 17/20\n",
      "6379/6379 [==============================] - 86s 13ms/step - loss: 0.1612 - acc: 0.9385 - val_loss: 0.1738 - val_acc: 0.9365\n",
      "Epoch 18/20\n",
      "6379/6379 [==============================] - 90s 14ms/step - loss: 0.1392 - acc: 0.9514 - val_loss: 0.1670 - val_acc: 0.9341\n",
      "Epoch 19/20\n",
      "6379/6379 [==============================] - 84s 13ms/step - loss: 0.1337 - acc: 0.9514 - val_loss: 0.1357 - val_acc: 0.9514\n",
      "Epoch 20/20\n",
      "6379/6379 [==============================] - 89s 14ms/step - loss: 0.1208 - acc: 0.9591 - val_loss: 0.1263 - val_acc: 0.9569\n"
     ]
    },
    {
     "data": {
      "text/plain": [
       "<keras.callbacks.History at 0x1a456b28b70>"
      ]
     },
     "execution_count": 51,
     "metadata": {},
     "output_type": "execute_result"
    }
   ],
   "source": [
    "model.fit(x=X_train, y=y_train,\n",
    "          epochs=20,\n",
    "          batch_size=128,\n",
    "          shuffle=True,\n",
    "          validation_data=(X_validate, y_validate),\n",
    "          callbacks=[TensorBoard(log_dir='/tmp/model', histogram_freq=0, write_graph=True)]\n",
    "         )          "
   ]
  },
  {
   "cell_type": "code",
   "execution_count": 52,
   "metadata": {},
   "outputs": [],
   "source": [
    "model.save('shadiandishmandmodel.h5')"
   ]
  },
  {
   "cell_type": "markdown",
   "metadata": {},
   "source": [
    "# your comments:"
   ]
  },
  {
   "cell_type": "markdown",
   "metadata": {},
   "source": [
    "# part 2\n",
    "validation set was was a part of train set so we predict that the val_accuracy will be something near the 1. we tried many numbers of epoches so finally i decieded to put it 20 epoches which give me about 90% accuracy.\n",
    "\n",
    "we put some of the hyperparameters like activation functions,batch_size,and etc of the network and made a CNN, with input layer to be appropriate for images and a dense layer with softmax at the output.\n"
   ]
  },
  {
   "cell_type": "markdown",
   "metadata": {},
   "source": [
    "# Part 3 - Evaluation (max 10 pts)\n",
    "## Part 3.a - Test (max 8/10 pts)\n",
    "- use the classifier built during Part 2, to classify the lego brick label of each picture of your Test dataset portion.\n",
    "- print the classifcation report\n",
    "\n",
    "## Part 3.b - minal f1 requirement (max 2/10 pts)\n",
    "- if from the report (in part 3.a) you printed, the weighted avg F1 is greater than 0.60 you get 1 point\n",
    "- if from the report (in part 3.a) you printed, the weighted avg F1 is greater than 0.70 you get 1 point\n",
    "- if from the report you printed in part 3.a the weighted avg F1 is less or equal to 0.60 you get -2 points"
   ]
  },
  {
   "cell_type": "code",
   "execution_count": 54,
   "metadata": {},
   "outputs": [],
   "source": [
    "#code for  part 3\n",
    "from keras.models import load_model\n",
    "from sklearn.metrics import classification_report"
   ]
  },
  {
   "cell_type": "code",
   "execution_count": 55,
   "metadata": {},
   "outputs": [],
   "source": [
    "model = load_model('shadiandishmandmodel.h5')\n",
    "model = Model(inputs=model.input, outputs=model.output)"
   ]
  },
  {
   "cell_type": "code",
   "execution_count": 56,
   "metadata": {},
   "outputs": [],
   "source": [
    "pred = model.predict(X_test)\n",
    "l_pred = []\n",
    "for p in pred:\n",
    "    l_pred.append(np.argmax([int(round(x)) for x in p]))"
   ]
  },
  {
   "cell_type": "code",
   "execution_count": 57,
   "metadata": {},
   "outputs": [],
   "source": [
    "y_test_l = []\n",
    "for p in np.asarray(y_test):\n",
    "    y_test_l.append(np.argmax(p))"
   ]
  },
  {
   "cell_type": "code",
   "execution_count": 58,
   "metadata": {},
   "outputs": [
    {
     "name": "stdout",
     "output_type": "stream",
     "text": [
      "              precision    recall  f1-score   support\n",
      "\n",
      "           0       0.81      0.92      0.86       324\n",
      "           1       0.88      0.95      0.91       320\n",
      "           2       1.00      1.00      1.00       309\n",
      "           3       1.00      1.00      1.00       333\n",
      "           4       1.00      1.00      1.00       324\n",
      "           5       1.00      1.00      1.00       324\n",
      "           6       1.00      1.00      1.00       327\n",
      "           7       0.83      0.91      0.87       319\n",
      "           8       0.99      1.00      1.00       319\n",
      "           9       1.00      0.99      1.00       310\n",
      "          10       1.00      0.98      0.99       310\n",
      "          11       1.00      1.00      1.00       310\n",
      "          12       0.99      0.90      0.94       336\n",
      "          13       1.00      1.00      1.00       313\n",
      "          14       0.91      0.72      0.81       313\n",
      "          15       1.00      1.00      1.00       313\n",
      "\n",
      "    accuracy                           0.96      5104\n",
      "   macro avg       0.96      0.96      0.96      5104\n",
      "weighted avg       0.96      0.96      0.96      5104\n",
      "\n"
     ]
    }
   ],
   "source": [
    "print(classification_report(y_test_l, l_pred))"
   ]
  },
  {
   "cell_type": "markdown",
   "metadata": {},
   "source": [
    "# your comments:"
   ]
  },
  {
   "cell_type": "markdown",
   "metadata": {},
   "source": [
    "# part 3\n",
    "\n",
    "i imported keras.models and sklearn.metrics to load model and make classification report.with classification report when i give it the correct target values and those how predicted by CNN it displays the precision, recall, F1, and support scores for the each class so as i predicted it give about 96 accuracy avg."
   ]
  },
  {
   "cell_type": "markdown",
   "metadata": {},
   "source": [
    "# Part 4 - Feature importance (max 2/30 pts)\n",
    "## Part 4.a perform a pixel based feature importance analysis on the validation portion of the dataset (1 pts)\n",
    "## Part 4.b plot the corresponding heatmap of pixel importance (1 pts)\n",
    "\n"
   ]
  },
  {
   "cell_type": "code",
   "execution_count": 60,
   "metadata": {},
   "outputs": [],
   "source": [
    "# code for part 4 "
   ]
  },
  {
   "cell_type": "code",
   "execution_count": 61,
   "metadata": {},
   "outputs": [],
   "source": [
    "from sklearn.ensemble import ExtraTreesClassifier\n",
    "import matplotlib.pyplot as plt"
   ]
  },
  {
   "cell_type": "code",
   "execution_count": 62,
   "metadata": {},
   "outputs": [],
   "source": [
    "n_jobs = 3\n",
    "forest = ExtraTreesClassifier(n_estimators=1000,\n",
    "                              n_jobs=n_jobs,\n",
    "                              verbose=1,\n",
    "                              criterion='entropy',\n",
    "                              random_state=0)\n",
    "\n",
    "X_validate = X_validate.reshape((len(X_validate), width*height))"
   ]
  },
  {
   "cell_type": "code",
   "execution_count": 63,
   "metadata": {},
   "outputs": [
    {
     "name": "stderr",
     "output_type": "stream",
     "text": [
      "[Parallel(n_jobs=3)]: Using backend ThreadingBackend with 3 concurrent workers.\n",
      "[Parallel(n_jobs=3)]: Done  44 tasks      | elapsed:    2.5s\n",
      "[Parallel(n_jobs=3)]: Done 194 tasks      | elapsed:    6.9s\n",
      "[Parallel(n_jobs=3)]: Done 444 tasks      | elapsed:   13.8s\n",
      "[Parallel(n_jobs=3)]: Done 794 tasks      | elapsed:   23.2s\n",
      "[Parallel(n_jobs=3)]: Done 1000 out of 1000 | elapsed:   28.6s finished\n"
     ]
    },
    {
     "data": {
      "text/plain": [
       "ExtraTreesClassifier(bootstrap=False, class_weight=None, criterion='entropy',\n",
       "                     max_depth=None, max_features='auto', max_leaf_nodes=None,\n",
       "                     min_impurity_decrease=0.0, min_impurity_split=None,\n",
       "                     min_samples_leaf=1, min_samples_split=2,\n",
       "                     min_weight_fraction_leaf=0.0, n_estimators=1000, n_jobs=3,\n",
       "                     oob_score=False, random_state=0, verbose=1,\n",
       "                     warm_start=False)"
      ]
     },
     "execution_count": 63,
     "metadata": {},
     "output_type": "execute_result"
    }
   ],
   "source": [
    "forest.fit(X_validate, y_validate)"
   ]
  },
  {
   "cell_type": "code",
   "execution_count": 64,
   "metadata": {},
   "outputs": [],
   "source": [
    "importances = forest.feature_importances_\n",
    "importances = importances.reshape((width, height))"
   ]
  },
  {
   "cell_type": "code",
   "execution_count": 65,
   "metadata": {},
   "outputs": [
    {
     "data": {
      "image/png": "[encoded data removed]",
      "text/plain": [
       "<Figure size 288x288 with 1 Axes>"
      ]
     },
     "metadata": {
      "needs_background": "light"
     },
     "output_type": "display_data"
    }
   ],
   "source": [
    "plt.matshow(importances, cmap=plt.cm.hot)\n",
    "plt.show()"
   ]
  },
  {
   "cell_type": "markdown",
   "metadata": {},
   "source": [
    "# your comments:"
   ]
  },
  {
   "cell_type": "markdown",
   "metadata": {},
   "source": [
    "# part 4\n",
    "feature importance provides a score that indicates how each feature was valueable in the construction of the boosted decision trees\n",
    "within my model.The more an attribute is used to make key decisions in decision trees, the higher its relative importance so this informations gain from\n",
    "each pixel in my model after fit it. the higher information give us brighter resoloution in that pixels in the feature importance image.\n",
    "\n",
    "The heat map that we get is not very good.it is black at the borders.The images are almost are all in grayscale, so we get that the center is darker that than the circles around it because the defining edges are spread around it. "
   ]
  },
  {
   "cell_type": "markdown",
   "metadata": {},
   "source": [
    "# Part 5 - Extra point\n",
    "- if from the report you printed in part 3.a the weighted avg F1 is greater tha 0.85 you get 1 point\n",
    "\n",
    "\n",
    "\n",
    "<img src=\"dexter.jpg\"/>"
   ]
  }
 ],
 "metadata": {
  "kernelspec": {
   "display_name": "Python 3",
   "language": "python",
   "name": "python3"
  },
  "language_info": {
   "codemirror_mode": {
    "name": "ipython",
    "version": 3
   },
   "file_extension": ".py",
   "mimetype": "text/x-python",
   "name": "python",
   "nbconvert_exporter": "python",
   "pygments_lexer": "ipython3",
   "version": "3.7.3"
  }
 },
 "nbformat": 4,
 "nbformat_minor": 2
}
